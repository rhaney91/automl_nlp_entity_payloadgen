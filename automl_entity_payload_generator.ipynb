{
 "cells": [
  {
   "cell_type": "code",
   "execution_count": null,
   "id": "assumed-ceiling",
   "metadata": {},
   "outputs": [],
   "source": [
    "import csv \n",
    "import os\n",
    "from google.cloud import storage"
   ]
  },
  {
   "cell_type": "code",
   "execution_count": null,
   "id": "speaking-mount",
   "metadata": {},
   "outputs": [],
   "source": [
    "bucket_name = \"fmcdata_nlp\"\n",
    "input_data_prefix = \"entity_extraction/\" #location of PDF files within the bucket defined by bucket_name\n",
    "jsonl_prefix = \"jsonl/\" #path you want the jsonl files to be uploaded to in your bucket\n",
    "jsonl_output_dir = \"/home/jupyter/jsonl/\" #temp output directory for jsonl files in your notebook server\n",
    "csv_output_dir = \"/home/jupyter/\" #output location of the csv on your notebook server\n",
    "csv_name = \"entity.csv\" #csv file name"
   ]
  },
  {
   "cell_type": "code",
   "execution_count": null,
   "id": "commercial-leave",
   "metadata": {},
   "outputs": [],
   "source": [
    "if not os.path.exists(jsonl_output_dir):\n",
    "    os.makedirs(jsonl_output_dir)"
   ]
  },
  {
   "cell_type": "code",
   "execution_count": null,
   "id": "lucky-frontier",
   "metadata": {},
   "outputs": [],
   "source": [
    "def list_blobs_with_prefix(bucket_name, prefix, delimiter):\n",
    "    file_list = []\n",
    "    storage_client = storage.Client()\n",
    "    blobs = storage_client.list_blobs(\n",
    "        bucket_name, prefix=prefix, delimiter=delimiter\n",
    "    )\n",
    "    for blob in blobs:\n",
    "        pass\n",
    "    if delimiter:\n",
    "        for prefix in blobs.prefixes:\n",
    "            file_list.append(prefix)\n",
    "    return file_list"
   ]
  },
  {
   "cell_type": "code",
   "execution_count": null,
   "id": "dietary-ground",
   "metadata": {},
   "outputs": [],
   "source": [
    "def upload_blob(bucket_name, source_file_name, destination_blob_name):\n",
    "    storage_client = storage.Client()\n",
    "    bucket = storage_client.bucket(bucket_name)\n",
    "    blob = bucket.blob(destination_blob_name)\n",
    "\n",
    "    blob.upload_from_filename(source_file_name)\n",
    "\n",
    "    print(\n",
    "        \"File {} uploaded to {}.\".format(\n",
    "            source_file_name, destination_blob_name\n",
    "        )\n",
    "    )"
   ]
  },
  {
   "cell_type": "code",
   "execution_count": null,
   "id": "creative-posting",
   "metadata": {},
   "outputs": [],
   "source": [
    "def write_jsonl(jsonl_string,counter):\n",
    "    with open(jsonl_output_dir+'input{}.jsonl'.format(counter),'w') as file:\n",
    "        file.write(jsonl_string)\n",
    "    upload_blob(bucket_name,jsonl_output_dir+'input{}.jsonl'.format(counter),jsonl_prefix+\"input{}.jsonl\".format(counter))"
   ]
  },
  {
   "cell_type": "code",
   "execution_count": null,
   "id": "demonstrated-indianapolis",
   "metadata": {},
   "outputs": [],
   "source": [
    "def write_csv(csv_string):\n",
    "    with open(csv_output_dir+csv_name,'a+') as file:\n",
    "        file.write(csv_string)"
   ]
  },
  {
   "cell_type": "code",
   "execution_count": null,
   "id": "latter-joyce",
   "metadata": {},
   "outputs": [],
   "source": [
    "input_files = list_blobs_with_prefix(bucket_name,input_data_prefix,\"pdf\")"
   ]
  },
  {
   "cell_type": "code",
   "execution_count": null,
   "id": "dynamic-maldives",
   "metadata": {},
   "outputs": [],
   "source": [
    "counter = 0\n",
    "for file in input_files:\n",
    "    json_string = \"{{\\\"document\\\":{{\\\"input_config\\\":{{\\\"gcs_source\\\":{{\\\"input_uris\\\":[\\\"gs://{}/{}\\\"]}}}}}}}}\".format(bucket_name,file)\n",
    "    write_jsonl(json_string,counter)\n",
    "    counter += 1"
   ]
  },
  {
   "cell_type": "code",
   "execution_count": null,
   "id": "liberal-aggregate",
   "metadata": {},
   "outputs": [],
   "source": [
    "jsonl_files = list_blobs_with_prefix(bucket_name,jsonl_prefix,\"jsonl\")\n",
    "for jsonl in jsonl_files:\n",
    "    csvline = \",gs://{}/{}\\n\".format(bucket_name,jsonl)\n",
    "    write_csv(csvline)\n",
    "upload_blob(bucket_name,csv_output_dir+csv_name,csv_name)"
   ]
  }
 ],
 "metadata": {
  "environment": {
   "name": "common-cpu.m65",
   "type": "gcloud",
   "uri": "gcr.io/deeplearning-platform-release/base-cpu:m65"
  },
  "kernelspec": {
   "display_name": "Python 3",
   "language": "python",
   "name": "python3"
  },
  "language_info": {
   "codemirror_mode": {
    "name": "ipython",
    "version": 3
   },
   "file_extension": ".py",
   "mimetype": "text/x-python",
   "name": "python",
   "nbconvert_exporter": "python",
   "pygments_lexer": "ipython3",
   "version": "3.7.10"
  }
 },
 "nbformat": 4,
 "nbformat_minor": 5
}
